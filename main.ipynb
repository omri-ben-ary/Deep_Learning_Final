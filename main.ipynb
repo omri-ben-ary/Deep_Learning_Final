{
 "cells": [
  {
   "cell_type": "code",
   "execution_count": 8,
   "id": "04bb3860-f4ed-4dc2-bb65-fd5bab45d709",
   "metadata": {},
   "outputs": [
    {
     "name": "stdout",
     "output_type": "stream",
     "text": [
      "cuda\n"
     ]
    }
   ],
   "source": [
    "import AutoDecoder, AD_Trainer\n",
    "import utils\n",
    "from evaluate import evaluate_model\n",
    "import torch\n",
    "import torch.optim as optim\n",
    "\n",
    "device = torch.device('cuda' if torch.cuda.is_available() else 'cpu')\n",
    "print(device)"
   ]
  },
  {
   "cell_type": "markdown",
   "id": "9d227682-fe2c-4635-8f22-43695ac358ee",
   "metadata": {},
   "source": [
    "## Create DataLoaders"
   ]
  },
  {
   "cell_type": "code",
   "execution_count": 2,
   "id": "fb85c21c-5862-401b-88a4-e20796edf5ba",
   "metadata": {},
   "outputs": [],
   "source": [
    "train_ds, train_dl, test_ds, test_dl = utils.create_dataloaders(\"dataset\")"
   ]
  },
  {
   "cell_type": "markdown",
   "id": "a0c9b43a-4434-4820-92c0-caf522961bb1",
   "metadata": {},
   "source": [
    "## Train Auto Decoder"
   ]
  },
  {
   "cell_type": "code",
   "execution_count": 3,
   "id": "13baccde-a05f-4922-b4b9-681d7aecfc6f",
   "metadata": {},
   "outputs": [
    {
     "name": "stdout",
     "output_type": "stream",
     "text": [
      "Epoch [1/10], Loss: 2.7846\n",
      "Epoch [2/10], Loss: 2.7135\n",
      "Epoch [3/10], Loss: 2.6997\n",
      "Epoch [4/10], Loss: 2.6943\n",
      "Epoch [5/10], Loss: 2.6833\n",
      "Epoch [6/10], Loss: 2.6831\n",
      "Epoch [7/10], Loss: 2.6792\n",
      "Epoch [8/10], Loss: 2.6867\n",
      "Epoch [9/10], Loss: 2.6582\n",
      "Epoch [10/10], Loss: 2.6754\n"
     ]
    }
   ],
   "source": [
    "auto_decoder = AutoDecoder.AutoDecoder()\n",
    "trainer = AD_Trainer.AD_Trainer(decoder=auto_decoder, dataloader=train_dl, latent_dim=64, device=device, lr=1e-3)\n",
    "trainer.train(10)"
   ]
  },
  {
   "cell_type": "markdown",
   "id": "c95bd661-ea43-4e60-93f0-cade1c016a2f",
   "metadata": {},
   "source": [
    "## Evaluate Auto Decoder"
   ]
  },
  {
   "cell_type": "code",
   "execution_count": 6,
   "id": "cc2bfd32-1c89-4f4f-9494-9d7f6e7adc7d",
   "metadata": {},
   "outputs": [],
   "source": [
    "num_test_samples = len(test_dl.dataset)\n",
    "latents = torch.nn.Parameter(torch.randn(num_test_samples, trainer.latent_dim).to(device))\n",
    "opt = optim.Adam([latents], lr=1e-3)"
   ]
  },
  {
   "cell_type": "code",
   "execution_count": 9,
   "id": "ad556234-27db-4273-b409-cc4d0380268a",
   "metadata": {},
   "outputs": [
    {
     "name": "stdout",
     "output_type": "stream",
     "text": [
      "2.4981834734678268\n"
     ]
    }
   ],
   "source": [
    "loss = evaluate_model(model=auto_decoder, test_dl=test_dl, opt=opt, latents=latents, epochs=10, device=device)\n",
    "print(loss)"
   ]
  }
 ],
 "metadata": {
  "kernelspec": {
   "display_name": "Python 3 (ipykernel)",
   "language": "python",
   "name": "python3"
  },
  "language_info": {
   "codemirror_mode": {
    "name": "ipython",
    "version": 3
   },
   "file_extension": ".py",
   "mimetype": "text/x-python",
   "name": "python",
   "nbconvert_exporter": "python",
   "pygments_lexer": "ipython3",
   "version": "3.10.14"
  }
 },
 "nbformat": 4,
 "nbformat_minor": 5
}
