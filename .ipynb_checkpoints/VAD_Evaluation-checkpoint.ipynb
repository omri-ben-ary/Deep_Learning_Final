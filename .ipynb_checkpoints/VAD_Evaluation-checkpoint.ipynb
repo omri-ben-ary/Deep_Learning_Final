{
 "cells": [
  {
   "cell_type": "code",
   "execution_count": 2,
   "id": "85001909-03dc-4c8d-b663-4120e3f48d4e",
   "metadata": {},
   "outputs": [
    {
     "ename": "TypeError",
     "evalue": "'<' not supported between instances of 'float' and 'NoneType'",
     "output_type": "error",
     "traceback": [
      "\u001b[0;31m---------------------------------------------------------------------------\u001b[0m",
      "\u001b[0;31mTypeError\u001b[0m                                 Traceback (most recent call last)",
      "Cell \u001b[0;32mIn[2], line 53\u001b[0m\n\u001b[1;32m     50\u001b[0m     plt\u001b[38;5;241m.\u001b[39mshow()\n\u001b[1;32m     52\u001b[0m \u001b[38;5;66;03m# Call the updated plotting functions\u001b[39;00m\n\u001b[0;32m---> 53\u001b[0m \u001b[43mplot_training_loss_below_threshold\u001b[49m\u001b[43m(\u001b[49m\u001b[43mdf\u001b[49m\u001b[43m,\u001b[49m\u001b[43mthreshold\u001b[49m\u001b[38;5;241;43m=\u001b[39;49m\u001b[38;5;28;43;01mNone\u001b[39;49;00m\u001b[43m)\u001b[49m\n\u001b[1;32m     54\u001b[0m plot_test_loss_below_threshold(df, threshold\u001b[38;5;241m=\u001b[39m\u001b[38;5;28;01mNone\u001b[39;00m)\n",
      "Cell \u001b[0;32mIn[2], line 16\u001b[0m, in \u001b[0;36mplot_training_loss_below_threshold\u001b[0;34m(df, threshold)\u001b[0m\n\u001b[1;32m     13\u001b[0m     train_loss \u001b[38;5;241m=\u001b[39m row[\u001b[38;5;241m1\u001b[39m:\u001b[38;5;241m-\u001b[39m\u001b[38;5;241m1\u001b[39m]\u001b[38;5;241m.\u001b[39mvalues  \u001b[38;5;66;03m# Skip 'Index' and 'Final Test Loss'\u001b[39;00m\n\u001b[1;32m     15\u001b[0m     \u001b[38;5;66;03m# Check if the training loss has ever gone below the threshold\u001b[39;00m\n\u001b[0;32m---> 16\u001b[0m     \u001b[38;5;28;01mif\u001b[39;00m \u001b[38;5;28many\u001b[39m(\u001b[43mtrain_loss\u001b[49m\u001b[43m \u001b[49m\u001b[38;5;241;43m<\u001b[39;49m\u001b[43m \u001b[49m\u001b[43mthreshold\u001b[49m):\n\u001b[1;32m     17\u001b[0m         plt\u001b[38;5;241m.\u001b[39mplot(\u001b[38;5;28mrange\u001b[39m(\u001b[38;5;241m1\u001b[39m, \u001b[38;5;28mlen\u001b[39m(train_loss) \u001b[38;5;241m+\u001b[39m \u001b[38;5;241m1\u001b[39m), train_loss, label\u001b[38;5;241m=\u001b[39m\u001b[38;5;124mf\u001b[39m\u001b[38;5;124m'\u001b[39m\u001b[38;5;124mArch \u001b[39m\u001b[38;5;132;01m{\u001b[39;00mrow[\u001b[38;5;124m\"\u001b[39m\u001b[38;5;124mIndex\u001b[39m\u001b[38;5;124m\"\u001b[39m]\u001b[38;5;132;01m}\u001b[39;00m\u001b[38;5;124m'\u001b[39m)\n\u001b[1;32m     19\u001b[0m plt\u001b[38;5;241m.\u001b[39mxlabel(\u001b[38;5;124m'\u001b[39m\u001b[38;5;124mEpoch\u001b[39m\u001b[38;5;124m'\u001b[39m)\n",
      "\u001b[0;31mTypeError\u001b[0m: '<' not supported between instances of 'float' and 'NoneType'"
     ]
    }
   ],
   "source": [
    "import pandas as pd\n",
    "import matplotlib.pyplot as plt\n",
    "\n",
    "# Load the CSV file\n",
    "csv_file_path = 'results_VAD_temp.csv'\n",
    "df = pd.read_csv(csv_file_path)\n",
    "\n",
    "# Plot training loss per epoch for architectures that have gone below 0.19\n",
    "def plot_training_loss_below_threshold(df, threshold=0.19):\n",
    "    num_epochs = df.shape[1] - 2  # Subtract 2 for 'Index' and 'Final Test Loss'\n",
    "    \n",
    "    for index, row in df.iterrows():\n",
    "        train_loss = row[1:-1].values  # Skip 'Index' and 'Final Test Loss'\n",
    "        \n",
    "        # Check if the training loss has ever gone below the threshold\n",
    "        # if any(train_loss < threshold):\n",
    "        plt.plot(range(1, len(train_loss) + 1), train_loss, label=f'Arch {row[\"Index\"]}')\n",
    "    \n",
    "    plt.xlabel('Epoch')\n",
    "    plt.ylabel('Training Loss')\n",
    "    plt.title(f'Training Loss per Epoch below {threshold}')\n",
    "    # plt.legend(loc='upper center', bbox_to_anchor=(0.5, -0.15), ncol=5)  # Adjust ncol for number of columns\n",
    "    # plt.ylim([0, 0.45])\n",
    "    # plt.xlim([0, 201])\n",
    "    plt.grid(True)\n",
    "    plt.show()\n",
    "\n",
    "# Plot test loss vs architecture for those that went below threshold\n",
    "def plot_test_loss_below_threshold(df, threshold=0.9):\n",
    "    below_threshold_indices = []\n",
    "\n",
    "    # Collect architectures that have gone below the threshold\n",
    "    for index, row in df.iterrows():\n",
    "        train_loss = row[1:-1].values  # Skip 'Index' and 'Final Test Loss'\n",
    "        # if any(train_loss < threshold):\n",
    "        below_threshold_indices.append(row[\"Index\"])\n",
    "\n",
    "    # Filter DataFrame to include only those architectures\n",
    "    filtered_df = df[df['Index'].isin(below_threshold_indices)]\n",
    "    \n",
    "    test_losses = filtered_df['Final Test Loss'].values  # Get the final test loss column\n",
    "    arch_indices = filtered_df['Index'].values           # Get the architecture indices\n",
    "    \n",
    "    plt.bar(arch_indices, test_losses)\n",
    "    plt.xlabel('Architecture Index')\n",
    "    plt.ylabel('Test Loss')\n",
    "    plt.title(f'Test Loss vs Architecture')\n",
    "    plt.xticks(arch_indices)  # Set x-axis labels to architecture indices\n",
    "    plt.grid(True)\n",
    "    plt.show()\n",
    "\n",
    "# Call the updated plotting functions\n",
    "plot_training_loss_below_threshold(df,threshold=0.5)\n",
    "plot_test_loss_below_threshold(df, threshold=0.5)\n"
   ]
  }
 ],
 "metadata": {
  "kernelspec": {
   "display_name": "Python 3 (ipykernel)",
   "language": "python",
   "name": "python3"
  },
  "language_info": {
   "codemirror_mode": {
    "name": "ipython",
    "version": 3
   },
   "file_extension": ".py",
   "mimetype": "text/x-python",
   "name": "python",
   "nbconvert_exporter": "python",
   "pygments_lexer": "ipython3",
   "version": "3.10.14"
  }
 },
 "nbformat": 4,
 "nbformat_minor": 5
}
